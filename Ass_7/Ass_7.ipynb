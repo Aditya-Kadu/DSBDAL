{
 "cells": [
  {
   "cell_type": "code",
   "execution_count": 1,
   "id": "3707e535",
   "metadata": {},
   "outputs": [
    {
     "name": "stderr",
     "output_type": "stream",
     "text": [
      "[nltk_data] Downloading package stopwords to C:\\Users\\Aditya\n",
      "[nltk_data]     Kadu\\AppData\\Roaming\\nltk_data...\n",
      "[nltk_data]   Package stopwords is already up-to-date!\n",
      "[nltk_data] Downloading package averaged_perceptron_tagger to\n",
      "[nltk_data]     C:\\Users\\Aditya Kadu\\AppData\\Roaming\\nltk_data...\n",
      "[nltk_data]   Package averaged_perceptron_tagger is already up-to-\n",
      "[nltk_data]       date!\n",
      "[nltk_data] Downloading package wordnet to C:\\Users\\Aditya\n",
      "[nltk_data]     Kadu\\AppData\\Roaming\\nltk_data...\n",
      "[nltk_data]   Package wordnet is already up-to-date!\n",
      "[nltk_data] Downloading package punkt to C:\\Users\\Aditya\n",
      "[nltk_data]     Kadu\\AppData\\Roaming\\nltk_data...\n",
      "[nltk_data]   Package punkt is already up-to-date!\n"
     ]
    }
   ],
   "source": [
    "import nltk\n",
    "nltk.download(\"stopwords\")\n",
    "nltk.download('averaged_perceptron_tagger')\n",
    "nltk.download('wordnet')\n",
    "nltk.download('punkt')\n",
    "# nltk.download()\n",
    "from nltk.corpus import stopwords\n",
    "from nltk.tokenize import word_tokenize, sent_tokenize\n",
    "from nltk.stem import PorterStemmer,WordNetLemmatizer\n",
    "from nltk import pos_tag"
   ]
  },
  {
   "cell_type": "code",
   "execution_count": 2,
   "id": "2dec0abd",
   "metadata": {},
   "outputs": [],
   "source": [
    "sentence1 = \"Stemming and lemmatization are different techniques used to reduce words to their root form, but they produce varying results. Lemmatization is better than stemming\""
   ]
  },
  {
   "cell_type": "code",
   "execution_count": 3,
   "id": "bd075265",
   "metadata": {},
   "outputs": [
    {
     "data": {
      "text/plain": [
       "['Stemming',\n",
       " 'and',\n",
       " 'lemmatization',\n",
       " 'are',\n",
       " 'different',\n",
       " 'techniques',\n",
       " 'used',\n",
       " 'to',\n",
       " 'reduce',\n",
       " 'words',\n",
       " 'to',\n",
       " 'their',\n",
       " 'root',\n",
       " 'form',\n",
       " 'but',\n",
       " 'they',\n",
       " 'produce',\n",
       " 'varying',\n",
       " 'results',\n",
       " 'Lemmatization',\n",
       " 'is',\n",
       " 'better',\n",
       " 'than',\n",
       " 'stemming']"
      ]
     },
     "execution_count": 3,
     "metadata": {},
     "output_type": "execute_result"
    }
   ],
   "source": [
    "import string\n",
    "def tokenize(sentence: str):\n",
    "    punctuation = string.punctuation + \"[]{}()<>\"\n",
    "    for char in punctuation:\n",
    "        sentence = sentence.replace(char, \" \")\n",
    "    sentence.lower()\n",
    "    tokens = sentence.split()\n",
    "    return tokens\n",
    "tokens = tokenize(sentence1)\n",
    "tokens"
   ]
  },
  {
   "cell_type": "code",
   "execution_count": 4,
   "id": "1dcc338f",
   "metadata": {},
   "outputs": [
    {
     "data": {
      "text/plain": [
       "['Stemming',\n",
       " 'lemmatization',\n",
       " 'different',\n",
       " 'techniques',\n",
       " 'used',\n",
       " 'reduce',\n",
       " 'words',\n",
       " 'root',\n",
       " 'form',\n",
       " 'produce',\n",
       " 'varying',\n",
       " 'results',\n",
       " 'Lemmatization',\n",
       " 'better',\n",
       " 'stemming']"
      ]
     },
     "execution_count": 4,
     "metadata": {},
     "output_type": "execute_result"
    }
   ],
   "source": [
    "def removestopwords(sentence:str):\n",
    "    stop_words = set(stopwords.words(\"english\"))\n",
    "    filtered_sent = [word for word in sentence if not word in stop_words]\n",
    "    return filtered_sent\n",
    "tokens = removestopwords(tokens)\n",
    "tokens"
   ]
  },
  {
   "cell_type": "code",
   "execution_count": 5,
   "id": "55aea17a",
   "metadata": {},
   "outputs": [
    {
     "data": {
      "text/plain": [
       "[('Stemming', 'VBG'),\n",
       " ('lemmatization', 'NN'),\n",
       " ('different', 'JJ'),\n",
       " ('techniques', 'NNS'),\n",
       " ('used', 'VBN'),\n",
       " ('reduce', 'VB'),\n",
       " ('words', 'NNS'),\n",
       " ('root', 'VBP'),\n",
       " ('form', 'NN'),\n",
       " ('produce', 'VBP'),\n",
       " ('varying', 'VBG'),\n",
       " ('results', 'NNS'),\n",
       " ('Lemmatization', 'NNP'),\n",
       " ('better', 'RB'),\n",
       " ('stemming', 'VBG')]"
      ]
     },
     "execution_count": 5,
     "metadata": {},
     "output_type": "execute_result"
    }
   ],
   "source": [
    "pos_tag_list = pos_tag(tokens)\n",
    "pos_tag_list"
   ]
  },
  {
   "cell_type": "code",
   "execution_count": 6,
   "id": "4b369aee",
   "metadata": {},
   "outputs": [
    {
     "name": "stdout",
     "output_type": "stream",
     "text": [
      "Stemming Words\n",
      "Stemming: stem\n",
      "lemmatization: lemmat\n",
      "different: differ\n",
      "techniques: techniqu\n",
      "used: use\n",
      "reduce: reduc\n",
      "words: word\n",
      "root: root\n",
      "form: form\n",
      "produce: produc\n",
      "varying: vari\n",
      "results: result\n",
      "Lemmatization: lemmat\n",
      "better: better\n",
      "stemming: stem\n"
     ]
    }
   ],
   "source": [
    "stemmer = PorterStemmer()\n",
    "print(\"Stemming Words\")\n",
    "for word in tokens:\n",
    "    print(f\"{word}: {stemmer.stem(word)}\")"
   ]
  },
  {
   "cell_type": "code",
   "execution_count": 7,
   "id": "ddb0cbd4",
   "metadata": {},
   "outputs": [
    {
     "name": "stdout",
     "output_type": "stream",
     "text": [
      "Lemmatizing Words\n",
      "Stemming: Stemming\n",
      "lemmatization: lemmatization\n",
      "different: different\n",
      "techniques: technique\n",
      "used: used\n",
      "reduce: reduce\n",
      "words: word\n",
      "root: root\n",
      "form: form\n",
      "produce: produce\n",
      "varying: varying\n",
      "results: result\n",
      "Lemmatization: Lemmatization\n",
      "better: better\n",
      "stemming: stemming\n"
     ]
    }
   ],
   "source": [
    "lemmatizer = WordNetLemmatizer()\n",
    "print(\"Lemmatizing Words\")\n",
    "for word in tokens:\n",
    "    print(f\"{word}: {lemmatizer.lemmatize(word)}\")"
   ]
  },
  {
   "cell_type": "code",
   "execution_count": 8,
   "id": "da4b06da",
   "metadata": {},
   "outputs": [
    {
     "data": {
      "text/plain": [
       "{'Stemming': 0.06666666666666667,\n",
       " 'lemmatization': 0.06666666666666667,\n",
       " 'different': 0.06666666666666667,\n",
       " 'techniques': 0.06666666666666667,\n",
       " 'used': 0.06666666666666667,\n",
       " 'reduce': 0.06666666666666667,\n",
       " 'words': 0.06666666666666667,\n",
       " 'root': 0.06666666666666667,\n",
       " 'form': 0.06666666666666667,\n",
       " 'produce': 0.06666666666666667,\n",
       " 'varying': 0.06666666666666667,\n",
       " 'results': 0.06666666666666667,\n",
       " 'Lemmatization': 0.06666666666666667,\n",
       " 'better': 0.06666666666666667,\n",
       " 'stemming': 0.06666666666666667}"
      ]
     },
     "execution_count": 8,
     "metadata": {},
     "output_type": "execute_result"
    }
   ],
   "source": [
    "def calculateTF(token):\n",
    "    term_freq = {}\n",
    "    for word in token:\n",
    "        if word not in term_freq:\n",
    "            term_freq[word] = token.count(word) / len(token)\n",
    "\n",
    "    return term_freq\n",
    "\n",
    "calculateTF(tokens)"
   ]
  },
  {
   "cell_type": "code",
   "execution_count": 9,
   "id": "c6caf358",
   "metadata": {},
   "outputs": [
    {
     "name": "stdout",
     "output_type": "stream",
     "text": [
      "{'than': 1, 'root': 1, 'words': 1, 'they': 1, 'results': 1, 'techniques': 1, 'reduce': 1, 'their': 1, 'different': 1, 'are': 1, 'produce': 1, 'Stemming': 1, 'Lemmatization': 1, 'lemmatization': 1, 'better': 1, 'form': 1, 'used': 1, 'to': 1, 'varying': 1, 'but': 1, 'and': 1, 'is': 1, 'stemming': 1}\n"
     ]
    }
   ],
   "source": [
    "def calculateTF_IDF(documents):\n",
    "    documents = sent_tokenize(documents)\n",
    "    document_map = {}\n",
    "    document_tf = {}\n",
    "    unique_words = set()\n",
    "    word_idf = {}\n",
    "    \n",
    "    for i, document in enumerate(documents):\n",
    "        tokenizedWords  = tokenize(document)\n",
    "        document_map[i] = tokenizedWords\n",
    "\n",
    "        document_tf[i] = calculateTF(tokenizedWords)\n",
    "\n",
    "        for word in tokenizedWords:\n",
    "            unique_words.add(word)\n",
    "\n",
    "    for word in unique_words:\n",
    "        count = 0\n",
    "        for _, tokenedWords in document_map.items():\n",
    "            if word in tokenedWords:\n",
    "                count += 1\n",
    "\n",
    "        word_idf[word] = count\n",
    "\n",
    "    return word_idf, document_tf\n",
    "        \n",
    "\n",
    "word_idf, document_tf = calculateTF_IDF(sentence1)\n",
    "print(word_idf)"
   ]
  },
  {
   "cell_type": "code",
   "execution_count": null,
   "id": "499c656a",
   "metadata": {},
   "outputs": [],
   "source": []
  }
 ],
 "metadata": {
  "kernelspec": {
   "display_name": "Python 3 (ipykernel)",
   "language": "python",
   "name": "python3"
  },
  "language_info": {
   "codemirror_mode": {
    "name": "ipython",
    "version": 3
   },
   "file_extension": ".py",
   "mimetype": "text/x-python",
   "name": "python",
   "nbconvert_exporter": "python",
   "pygments_lexer": "ipython3",
   "version": "3.11.4"
  }
 },
 "nbformat": 4,
 "nbformat_minor": 5
}
